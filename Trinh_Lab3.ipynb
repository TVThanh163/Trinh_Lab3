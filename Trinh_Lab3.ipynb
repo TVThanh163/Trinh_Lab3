{
 "cells": [
  {
   "cell_type": "markdown",
   "id": "b6799ba5",
   "metadata": {},
   "source": [
    "# This is Thanh's A* Search Algorithm"
   ]
  },
  {
   "cell_type": "code",
   "execution_count": 73,
   "id": "2fbb77e4",
   "metadata": {},
   "outputs": [
    {
     "data": {
      "image/png": "[encoded data removed]",
      "text/plain": [
       "<Figure size 500x500 with 1 Axes>"
      ]
     },
     "metadata": {},
     "output_type": "display_data"
    },
    {
     "name": "stdout",
     "output_type": "stream",
     "text": [
      "Free cells: 70571 Obstacle (inflated): 19429\n"
     ]
    }
   ],
   "source": [
    "import numpy as np\n",
    "import cv2\n",
    "import matplotlib.pyplot as plt\n",
    "from collections import deque, defaultdict\n",
    "import heapq\n",
    "import random\n",
    "\n",
    "def show(img, title=None, cmap=None, size=5):\n",
    "    plt.figure(figsize=(size, size))\n",
    "    plt.imshow(img, cmap=cmap, origin='lower')\n",
    "    if title: plt.title(title)\n",
    "    plt.axis('off'); plt.show()\n",
    "\n",
    "H, W = 300, 300\n",
    "world = np.full((H, W), 255, np.uint8) # white background\n",
    "occ   = np.zeros((H, W), np.uint8) # black free space\n",
    "\n",
    "cv2.rectangle(occ, (200,250), (250,100), 1, -1) # filled rectangle\n",
    "cv2.circle(occ, (100, 150), 40, 1, -1) # filled circle\n",
    "cv2.line(occ, (100, 50), (100, 80), 1, 6) # thick line\n",
    "\n",
    "k = 17 # kernel size\n",
    "# Creating  a kernel (controls neighborhood size)\n",
    "kernel = cv2.getStructuringElement(cv2.MORPH_ELLIPSE, (k, k)) # disk\n",
    "\n",
    "# Dilation = expanding  obstacles (inflate boundaries)\n",
    "infl = cv2.dilate(occ, kernel, iterations=1)\n",
    "\n",
    "# Define start and goal locations\n",
    "start = (50, 50)\n",
    "goal = (275, 195)\n",
    "\n",
    "\n",
    "FREE = (infl == 0)\n",
    "# Visualize inflation\n",
    "infl_rgb = np.dstack([world, world, world])\n",
    "infl_rgb[occ == 1] = (0, 0, 0)\n",
    "infl_rgb[(infl == 1) & (occ == 0)] = (0, 0, 255)\n",
    "\n",
    "show(infl_rgb, \"Inflated Obstacles (Blue Border)\")\n",
    "print(\"Free cells:\", int(FREE.sum()), \"Obstacle (inflated):\", int((~FREE).sum()))\n",
    "\n"
   ]
  },
  {
   "cell_type": "markdown",
   "id": "56423d68",
   "metadata": {},
   "source": [
    "# Define start and goal locations"
   ]
  },
  {
   "cell_type": "code",
   "execution_count": 74,
   "id": "ca423cb8",
   "metadata": {},
   "outputs": [
    {
     "data": {
      "image/png": "[encoded data removed]",
      "text/plain": [
       "<Figure size 500x500 with 1 Axes>"
      ]
     },
     "metadata": {},
     "output_type": "display_data"
    }
   ],
   "source": [
    "desired_start = (50, 50) #start\n",
    "desired_goal  = (275, 195) #goal\n",
    "# Snap start/goal to nearest FREE cell if needed\n",
    "def nearest_free(pt, FREE):\n",
    "    x, y = pt\n",
    "    if 0 <= x < W and 0 <= y < H and FREE[y, x]:\n",
    "        return pt\n",
    "    ys, xs = np.where(FREE) # all free cells\n",
    "    if len(xs) == 0:\n",
    "        raise ValueError(\"No free space available.\")\n",
    "    idx = np.argmin((xs - x)**2 + (ys - y)**2)\n",
    "    return (int(xs[idx]), int(ys[idx]))\n",
    "#\n",
    "start = nearest_free(desired_start, FREE)\n",
    "goal  = nearest_free(desired_goal,  FREE)\n",
    "\n",
    "pts_rgb = infl_rgb.copy()\n",
    "cv2.circle(pts_rgb, start, 3, (0,255,0), -1)\n",
    "cv2.circle(pts_rgb, goal,  3, (255,0,255), -1)\n",
    "show(pts_rgb, f\"Start {start} / Goal {goal}\")\n"
   ]
  },
  {
   "cell_type": "code",
   "execution_count": 75,
   "id": "7f04fe78",
   "metadata": {},
   "outputs": [],
   "source": [
    "STEP = 1 # grid step size\n",
    "# Create lattice graph nodes on FREE space\n",
    "lattice_nodes = [(x, y) for y in range(0, H, STEP) for x in range(0, W, STEP) if FREE[y, x]]\n",
    "node_set = set(lattice_nodes)"
   ]
  },
  {
   "cell_type": "code",
   "execution_count": 76,
   "id": "94e25e48",
   "metadata": {},
   "outputs": [],
   "source": [
    "\n",
    "MOVES_4 = [(1,0),(-1,0),(0,1),(0,-1)] # 8-connectivity\n",
    "# Get neighbors on the grid (FREE space)\n",
    "\n",
    "def in_bounds(x, y): \n",
    "    return 0 <= x < W and 0 <= y < H\n",
    "\n",
    "# Get neighbors on the grid (FREE space)\n",
    "def neighbors_on_grid(x, y):\n",
    "    for dx, dy in MOVES_4:\n",
    "        nx, ny = x + dx, y + dy\n",
    "        if in_bounds(nx, ny) and FREE[ny, nx]:\n",
    "            yield (nx, ny)"
   ]
  },
  {
   "cell_type": "code",
   "execution_count": 77,
   "id": "c344026f",
   "metadata": {},
   "outputs": [
    {
     "name": "stdout",
     "output_type": "stream",
     "text": [
      "Adjacency List: V=70571, E≈140038, avg degree≈3.97\n",
      "(0, 0) -> [(1, 0), (0, 1)]\n",
      "(1, 0) -> [(2, 0), (0, 0), (1, 1)]\n",
      "(2, 0) -> [(3, 0), (1, 0), (2, 1)]\n",
      "(3, 0) -> [(4, 0), (2, 0), (3, 1)]\n",
      "(4, 0) -> [(5, 0), (3, 0), (4, 1)]\n"
     ]
    }
   ],
   "source": [
    "# Create adjacency list for the lattice graph\n",
    "adj_list = defaultdict(list)\n",
    "for (x, y) in lattice_nodes:\n",
    "    for (nx, ny) in neighbors_on_grid(x, y):\n",
    "        if (nx, ny) in node_set:\n",
    "            adj_list[(x, y)].append((nx, ny))\n",
    "\n",
    "#\n",
    "V = len(adj_list) # number of vertices\n",
    "E = sum(len(n) for n in adj_list.values()) // 2 # undirected edges\n",
    "avg_deg = 0 if V == 0 else (2*E)/V # average degree\n",
    "print(f\"Adjacency List: V={V}, E≈{E}, avg degree≈{avg_deg:.2f}\")\n",
    "for k in list(adj_list.keys())[:5]:\n",
    "    print(k, \"->\", adj_list[k][:8])\n"
   ]
  },
  {
   "cell_type": "code",
   "execution_count": 78,
   "id": "0d286279",
   "metadata": {},
   "outputs": [],
   "source": [
    "# Create a parent map to reconstruct path\n",
    "\n",
    "parent =  defaultdict(tuple)\n",
    "\n",
    "# Create a g function\n",
    "\n",
    "COST = 1 # uniform cost\n",
    "\n",
    "g = defaultdict(int)\n",
    "\n",
    "def g_cost(n):\n",
    "    p = parent[n]\n",
    "    return g[p] + COST"
   ]
  },
  {
   "cell_type": "code",
   "execution_count": null,
   "id": "2dc320ce",
   "metadata": {},
   "outputs": [
    {
     "name": "stdout",
     "output_type": "stream",
     "text": [
      "Goal reached!\n"
     ]
    }
   ],
   "source": [
    "#Heuristic function (Manhattan distance)\n",
    "def heuristic(a, b):\n",
    "    (x1, y1) = a\n",
    "    (x2, y2) = b\n",
    "    return abs(x1 - x2) + abs(y1 - y2) # Manhattan distance\n",
    "\n",
    "#Create a heap priority queue\n",
    "open = []\n",
    "\n",
    "heapq.heappush(open, (heuristic(start,goal), start)) # (priority, node)\n",
    "\n",
    "g[start] = 0\n",
    "\n",
    "# A* Search Algorithm\n",
    "while open:\n",
    "    _, current = heapq.heappop(open)\n",
    "    if current == goal:\n",
    "        print(\"Goal reached!\")\n",
    "        break\n",
    "    for neighbor in adj_list[current]:\n",
    "        step = g_cost(current) + COST\n",
    "        if neighbor not in g or step < g[neighbor]:\n",
    "            parent[neighbor] = current\n",
    "            g[neighbor] = step\n",
    "            f_score = step + heuristic(neighbor, goal)\n",
    "            heapq.heappush(open, (f_score, neighbor))\n",
    "\n",
    "# Reconstruct path from parent\n",
    "path_nodes = []\n",
    "path_nodes.append(current)\n",
    "while current != start:\n",
    "    path_nodes.append(parent[current])\n",
    "    current = parent[current] "
   ]
  },
  {
   "cell_type": "code",
   "execution_count": null,
   "id": "c4b24bd6",
   "metadata": {},
   "outputs": [
    {
     "data": {
      "image/png": "[encoded data removed]",
      "text/plain": [
       "<Figure size 500x500 with 1 Axes>"
      ]
     },
     "metadata": {},
     "output_type": "display_data"
    }
   ],
   "source": [
    "# Adding the path for visualization\n",
    "path_rgb = infl_rgb.copy()\n",
    "if path_nodes:\n",
    "    for (x, y) in path_nodes:\n",
    "        path_rgb[y, x] = (255, 0, 0)\n",
    "    cv2.circle(path_rgb, start, 3, (0,255,0), -1)\n",
    "    cv2.circle(path_rgb, goal, 3, (255,0,255), -1)\n",
    "    show(path_rgb, \"A* Search\")\n",
    "else:\n",
    "    show(infl_rgb, \"No path found — try smaller STEP or less inflation\")\n"
   ]
  }
 ],
 "metadata": {
  "kernelspec": {
   "display_name": "Python 3",
   "language": "python",
   "name": "python3"
  },
  "language_info": {
   "codemirror_mode": {
    "name": "ipython",
    "version": 3
   },
   "file_extension": ".py",
   "mimetype": "text/x-python",
   "name": "python",
   "nbconvert_exporter": "python",
   "pygments_lexer": "ipython3",
   "version": "3.13.2"
  }
 },
 "nbformat": 4,
 "nbformat_minor": 5
}
